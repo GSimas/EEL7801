{
 "cells": [
  {
   "cell_type": "markdown",
   "metadata": {},
   "source": [
    "# Projeto Eletrônica I - Definições\n",
    "\n",
    "Professor: [Fernando Rangel de Sousa](rangel.paginas.ufsc.br)\n",
    "\n",
    "\n",
    "Integrantes: \n",
    "\n",
    "- [André Martins Pio de Mattos](https://github.com/andrempmattos)\n",
    "- [Gustavo Simas da Silva](https://github.com/GSimas/)\n",
    "- Pedro Paulo Santos Gomes da Silva\n",
    "\n",
    "## **Requisitos:**\n",
    "\n",
    "\n",
    "- **Funcionalidade**\n",
    "- **Performance**\n",
    "- **Interface com o usuário**\n",
    "- **Fator de forma**\n",
    "- **Autonomia (se for portátil)**\n",
    "- **Custo, Custo NRE**\n",
    "- **Confiabilidade**\n",
    "\n",
    "Data | Atividade\n",
    "--------- | ------\n",
    "10/08     | Os grupos se apresentarão e farão exposição sobre o o problema que irão resolver\n",
    "17/08     | Cada grupo deverá apresentar a metodologia a empregar para solucionar o problema, assim como o cronograma de execução detalhado\n",
    "14/09     | Cada grupo deverá apresentar o estado do desenvolvimento, usando como referência a proposta da etapa anterior\n",
    "05/10     | Cada grupo já deverá apresentar um primeiro protótipo funcionando\n",
    "09/11     | Cada grupo deverá apresentar um segundo protótipo depurado\n",
    "23/11     | Cada grupo deverá apresentar um terceiro protótipo com versão definitiva\n",
    "30/11     | Apresentação oral, demonstração experimental , entrega do relatório\n",
    "\n",
    "## **Fluxograma:**\n",
    "\n",
    "1. Identificação do Problema\n",
    "2. Proposição da Solução\n",
    "3. Solução Arquitetural\n",
    "4. Estudo de viabilidade da solução\n",
    "5. Execução da solução\n",
    "6. Validação e teste\n",
    "7. Montagem do protótipo e demonstração\n",
    "8. Apresentação\n",
    "\n",
    "## **Temática**\n",
    "\n",
    "Objetivo: Desenvolver soluções que contribuam para avaliação da **qualidade da água e dos alimentos**\n",
    "\n",
    "- Identificar um problema real\n",
    "- Oferecer uma solução factível\n",
    "- Demonstrar a eficácia proposta\n",
    "\n",
    "**Possíveis Projetos:**\n",
    "\n",
    "- Sistema de irrigação automática; detecção de temperatura, umidade do solo e plantas e acionamento\n",
    "- Forno antimicrobiano; detecção e controle de temperatura em processo de esterilização de frutas\n",
    "- Detecção de qualidade de água em edifícios e condomínios"
   ]
  }
 ],
 "metadata": {
  "kernelspec": {
   "display_name": "Python 3",
   "language": "python",
   "name": "python3"
  },
  "language_info": {
   "codemirror_mode": {
    "name": "ipython",
    "version": 3
   },
   "file_extension": ".py",
   "mimetype": "text/x-python",
   "name": "python",
   "nbconvert_exporter": "python",
   "pygments_lexer": "ipython3",
   "version": "3.5.3"
  }
 },
 "nbformat": 4,
 "nbformat_minor": 2
}
