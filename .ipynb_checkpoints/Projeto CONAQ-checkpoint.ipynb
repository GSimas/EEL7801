{
 "cells": [
  {
   "cell_type": "markdown",
   "metadata": {},
   "source": [
    "# Projeto Eletrônica I - Definições\n",
    "\n",
    "Professor: [Fernando Rangel de Sousa](rangel.paginas.ufsc.br)\n",
    "\n",
    "\n",
    "Integrantes: \n",
    "\n",
    "- [André Martins Pio de Mattos](https://github.com/andrempmattos)\n",
    "- [Gustavo Simas da Silva](https://github.com/GSimas/)\n",
    "- Pedro Paulo Santos Gomes da Silva\n",
    "\n",
    "## Por quê:\n",
    "\n",
    "Projeto em parceria com a [Empresa Júnior CONAQ](http://conaq.com.br/), sistema de \"forno\" de esterilização/antimicrobiano. Relevante para indústria alimentícia, controle de qualidade de alimentos e saúde. Mais viável economicamente que os disponíveis no mercado. Depurável e personalizável, de acordo com a disponibilização de código e materiais necessários para o entendimento do projeto.\n",
    "\n",
    "\n",
    "## O quê:\n",
    "\n",
    "Sistema de esterilização/ forno antimicrobiano para indústria alimentícia. Produto viável em porte, econômico e de precisão (preferencialmente). Realizar verificação de variáveis no processo, temperatura (principalmente), entre outras relevantes para o objetivo de efetuar controle do aquecimento e garantir a eficácia do procedimento.\n",
    "\n",
    "\n",
    "## Como:\n",
    "\n",
    "Implementação de sistema que faça a verificação de temperatura (e, caso possível, umidade), preferencialmente sem estabelecer contato com o alimento durante o processo. Procedimento de aquecimento do alimento e controle do mesmo por fogo, indução, ondas, etc. Sistema de controle realimentado em malha fechada. Sistema contido e seguro.\n",
    "\n",
    "Componentes utilizáveis:\n",
    "\n",
    "- [DHT22](http://www.filipeflop.com/pd-137442-sensor-de-umidade-e-temperatura-am2302-dht22.html)\n",
    "- [Sensor IR MLX90614](http://www.ebay.com/itm/MLX90614-Contactless-Temperature-Sensor-Module-For-Arduino-/131573225504?_ul=BR)\n",
    "\n",
    "**Obs.:** componente deve evitar contato com alimento\n",
    "\n",
    "Conhecimento necessário:\n",
    "\n",
    "- Eletrônica de potência\n",
    "- Física Termodinâmica\n",
    "- Sistemas de Controle e Automação\n",
    "- Programação (C, Java, Python, etc.)\n",
    "- Desenvolvimento de software (caso seja realizada interface com usuário desktop)\n",
    "- Desenvolvimento de aplicativo (caso seja realizada interface com usuário mobile)"
   ]
  }
 ],
 "metadata": {
  "kernelspec": {
   "display_name": "Python 3",
   "language": "python",
   "name": "python3"
  },
  "language_info": {
   "codemirror_mode": {
    "name": "ipython",
    "version": 3
   },
   "file_extension": ".py",
   "mimetype": "text/x-python",
   "name": "python",
   "nbconvert_exporter": "python",
   "pygments_lexer": "ipython3",
   "version": "3.5.3"
  }
 },
 "nbformat": 4,
 "nbformat_minor": 2
}
